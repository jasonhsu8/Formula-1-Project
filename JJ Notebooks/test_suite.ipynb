{
 "cells": [
  {
   "cell_type": "code",
   "execution_count": 1,
   "metadata": {},
   "outputs": [
    {
     "ename": "ModuleNotFoundError",
     "evalue": "No module named 'myFunctions'",
     "output_type": "error",
     "traceback": [
      "\u001b[1;31m---------------------------------------------------------------------------\u001b[0m",
      "\u001b[1;31mModuleNotFoundError\u001b[0m                       Traceback (most recent call last)",
      "Input \u001b[1;32mIn [1]\u001b[0m, in \u001b[0;36m<module>\u001b[1;34m\u001b[0m\n\u001b[0;32m      1\u001b[0m \u001b[38;5;28;01mimport\u001b[39;00m \u001b[38;5;21;01munittest\u001b[39;00m\n\u001b[0;32m      2\u001b[0m \u001b[38;5;28;01mimport\u001b[39;00m \u001b[38;5;21;01mpandas\u001b[39;00m \u001b[38;5;28;01mas\u001b[39;00m \u001b[38;5;21;01mpd\u001b[39;00m\n\u001b[1;32m----> 3\u001b[0m \u001b[38;5;28;01mfrom\u001b[39;00m \u001b[38;5;21;01mmyFunctions\u001b[39;00m \u001b[38;5;28;01mimport\u001b[39;00m read_data\n\u001b[0;32m      5\u001b[0m \u001b[38;5;28;01mclass\u001b[39;00m \u001b[38;5;21;01mtestFunction\u001b[39;00m(unittest\u001b[38;5;241m.\u001b[39mTestCase):\n\u001b[0;32m      7\u001b[0m     \u001b[38;5;28;01mdef\u001b[39;00m \u001b[38;5;21mtest_read_data\u001b[39m(\u001b[38;5;28mself\u001b[39m):\n\u001b[0;32m      8\u001b[0m         \u001b[38;5;66;03m# Define a sample CSV file for testing\u001b[39;00m\n",
      "\u001b[1;31mModuleNotFoundError\u001b[0m: No module named 'myFunctions'"
     ]
    }
   ],
   "source": [
    "import unittest\n",
    "import pandas as pd\n",
    "from myFunctions import read_data\n",
    "\n",
    "class testFunction(unittest.TestCase):\n",
    "\n",
    "    def test_read_data(self):\n",
    "        # Define a sample CSV file for testing\n",
    "        sample_data = \"sample.csv\"\n",
    "        sample_content = \"column1,column2\\nvalue1,value2\"\n",
    "\n",
    "        # Write the sample content to the file\n",
    "        with open(f\"{dataset_folder_path}{sample_data}\", \"w\") as file:\n",
    "            file.write(sample_content)\n",
    "\n",
    "        # Call the function to read the data\n",
    "        result_df = read_data(sample_data)\n",
    "\n",
    "        # Define the expected DataFrame based on the sample content\n",
    "        expected_df = pd.DataFrame({\"column1\": [\"value1\"], \"column2\": [\"value2\"]})\n",
    "\n",
    "        # Compare the actual result with the expected DataFrame\n",
    "        pd.testing.assert_frame_equal(result_df, expected_df)\n",
    "\n",
    "        # Clean up the sample file after the test\n",
    "        import os\n",
    "        os.remove(f\"{dataset_folder_path}{sample_data}\")\n",
    "\n",
    "if __name__ == '__main__':\n",
    "    unittest.main()"
   ]
  }
 ],
 "metadata": {
  "kernelspec": {
   "display_name": "Python 3",
   "language": "python",
   "name": "python3"
  },
  "language_info": {
   "codemirror_mode": {
    "name": "ipython",
    "version": 3
   },
   "file_extension": ".py",
   "mimetype": "text/x-python",
   "name": "python",
   "nbconvert_exporter": "python",
   "pygments_lexer": "ipython3",
   "version": "3.10.2"
  }
 },
 "nbformat": 4,
 "nbformat_minor": 2
}
