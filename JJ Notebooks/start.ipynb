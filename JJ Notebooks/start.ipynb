{
 "cells": [
  {
   "cell_type": "code",
   "execution_count": 2,
   "metadata": {},
   "outputs": [],
   "source": [
    "import requests\n",
    "import pandas as pd\n",
    "import datetime\n",
    "import numpy as np\n",
    "import matplotlib.pyplot as plt\n",
    "import json\n",
    "import os\n",
    "from os import listdir\n",
    "from os.path import isfile, join"
   ]
  },
  {
   "cell_type": "code",
   "execution_count": 3,
   "metadata": {},
   "outputs": [],
   "source": [
    "dataset_folder_path = 'Dataset/'\n",
    "\n",
    "circuits = pd.read_csv(f'{dataset_folder_path}{\"circuits.csv\"}')\n",
    "drivers = pd.read_csv(f'{dataset_folder_path}{\"drivers.csv\"}')\n",
    "laptimes = pd.read_csv(f'{dataset_folder_path}{\"lap_times.csv\"}')\n",
    "races = pd.read_csv(f'{dataset_folder_path}{\"races.csv\"}')\n",
    "results = pd.read_csv(f'{dataset_folder_path}{\"results.csv\"}')\n",
    "status = pd.read_csv(f'{dataset_folder_path}{\"status.csv\"}')"
   ]
  },
  {
   "cell_type": "code",
   "execution_count": 46,
   "metadata": {},
   "outputs": [
    {
     "data": {
      "text/html": [
       "<div>\n",
       "<style scoped>\n",
       "    .dataframe tbody tr th:only-of-type {\n",
       "        vertical-align: middle;\n",
       "    }\n",
       "\n",
       "    .dataframe tbody tr th {\n",
       "        vertical-align: top;\n",
       "    }\n",
       "\n",
       "    .dataframe thead th {\n",
       "        text-align: right;\n",
       "    }\n",
       "</style>\n",
       "<table border=\"1\" class=\"dataframe\">\n",
       "  <thead>\n",
       "    <tr style=\"text-align: right;\">\n",
       "      <th></th>\n",
       "      <th>Ranking</th>\n",
       "      <th>raceId</th>\n",
       "      <th>circuitId</th>\n",
       "      <th>name</th>\n",
       "      <th>rating</th>\n",
       "      <th>year</th>\n",
       "    </tr>\n",
       "  </thead>\n",
       "  <tbody>\n",
       "    <tr>\n",
       "      <th>0</th>\n",
       "      <td>1</td>\n",
       "      <td>879</td>\n",
       "      <td>18</td>\n",
       "      <td>Brazilian Grand Prix</td>\n",
       "      <td>9.45</td>\n",
       "      <td>2012</td>\n",
       "    </tr>\n",
       "    <tr>\n",
       "      <th>1</th>\n",
       "      <td>2</td>\n",
       "      <td>1020</td>\n",
       "      <td>10</td>\n",
       "      <td>German Grand Prix</td>\n",
       "      <td>9.44</td>\n",
       "      <td>2019</td>\n",
       "    </tr>\n",
       "    <tr>\n",
       "      <th>2</th>\n",
       "      <td>3</td>\n",
       "      <td>843</td>\n",
       "      <td>17</td>\n",
       "      <td>Chinese Grand Prix</td>\n",
       "      <td>9.24</td>\n",
       "      <td>2011</td>\n",
       "    </tr>\n",
       "    <tr>\n",
       "      <th>3</th>\n",
       "      <td>4</td>\n",
       "      <td>906</td>\n",
       "      <td>7</td>\n",
       "      <td>Canadian Grand Prix</td>\n",
       "      <td>9.19</td>\n",
       "      <td>2014</td>\n",
       "    </tr>\n",
       "    <tr>\n",
       "      <th>4</th>\n",
       "      <td>5</td>\n",
       "      <td>910</td>\n",
       "      <td>11</td>\n",
       "      <td>Hungarian Grand Prix</td>\n",
       "      <td>9.14</td>\n",
       "      <td>2014</td>\n",
       "    </tr>\n",
       "    <tr>\n",
       "      <th>...</th>\n",
       "      <td>...</td>\n",
       "      <td>...</td>\n",
       "      <td>...</td>\n",
       "      <td>...</td>\n",
       "      <td>...</td>\n",
       "      <td>...</td>\n",
       "    </tr>\n",
       "    <tr>\n",
       "      <th>95</th>\n",
       "      <td>96</td>\n",
       "      <td>855</td>\n",
       "      <td>22</td>\n",
       "      <td>Japanese Grand Prix</td>\n",
       "      <td>7.57</td>\n",
       "      <td>2011</td>\n",
       "    </tr>\n",
       "    <tr>\n",
       "      <th>96</th>\n",
       "      <td>97</td>\n",
       "      <td>975</td>\n",
       "      <td>7</td>\n",
       "      <td>Canadian Grand Prix</td>\n",
       "      <td>7.55</td>\n",
       "      <td>2017</td>\n",
       "    </tr>\n",
       "    <tr>\n",
       "      <th>97</th>\n",
       "      <td>98</td>\n",
       "      <td>353</td>\n",
       "      <td>35</td>\n",
       "      <td>South Korean Grand Prix</td>\n",
       "      <td>7.54</td>\n",
       "      <td>2010</td>\n",
       "    </tr>\n",
       "    <tr>\n",
       "      <th>98</th>\n",
       "      <td>99</td>\n",
       "      <td>970</td>\n",
       "      <td>17</td>\n",
       "      <td>Chinese Grand Prix</td>\n",
       "      <td>7.53</td>\n",
       "      <td>2017</td>\n",
       "    </tr>\n",
       "    <tr>\n",
       "      <th>99</th>\n",
       "      <td>100</td>\n",
       "      <td>853</td>\n",
       "      <td>14</td>\n",
       "      <td>Italian Grand Prix</td>\n",
       "      <td>7.49</td>\n",
       "      <td>2011</td>\n",
       "    </tr>\n",
       "  </tbody>\n",
       "</table>\n",
       "<p>100 rows × 6 columns</p>\n",
       "</div>"
      ],
      "text/plain": [
       "    Ranking  raceId  circuitId                     name  rating  year\n",
       "0         1     879         18     Brazilian Grand Prix    9.45  2012\n",
       "1         2    1020         10        German Grand Prix    9.44  2019\n",
       "2         3     843         17       Chinese Grand Prix    9.24  2011\n",
       "3         4     906          7      Canadian Grand Prix    9.19  2014\n",
       "4         5     910         11     Hungarian Grand Prix    9.14  2014\n",
       "..      ...     ...        ...                      ...     ...   ...\n",
       "95       96     855         22      Japanese Grand Prix    7.57  2011\n",
       "96       97     975          7      Canadian Grand Prix    7.55  2017\n",
       "97       98     353         35  South Korean Grand Prix    7.54  2010\n",
       "98       99     970         17       Chinese Grand Prix    7.53  2017\n",
       "99      100     853         14       Italian Grand Prix    7.49  2011\n",
       "\n",
       "[100 rows x 6 columns]"
      ]
     },
     "execution_count": 46,
     "metadata": {},
     "output_type": "execute_result"
    }
   ],
   "source": [
    "top_100 = pd.read_csv(f'{dataset_folder_path}{\"top_100_races_f1.csv\"}')\n",
    "top_100"
   ]
  },
  {
   "cell_type": "code",
   "execution_count": 41,
   "metadata": {},
   "outputs": [
    {
     "data": {
      "text/plain": [
       "array(['Brazilian Grand Prix', 'German Grand Prix', 'Chinese Grand Prix',\n",
       "       'Canadian Grand Prix', 'Hungarian Grand Prix',\n",
       "       'United States Grand Prix', 'Bahrain Grand Prix',\n",
       "       'Russian Grand Prix', 'Turkish Grand Prix', 'British Grand Prix',\n",
       "       'Austrian Grand Prix', 'Abu Dhabi Grand Prix', 'Sakhir Grand Prix',\n",
       "       'Azerbaijan Grand Prix', 'European Grand Prix',\n",
       "       'Spanish Grand Prix', 'Australian Grand Prix',\n",
       "       'Malaysian Grand Prix', 'Italian Grand Prix', 'Belgian Grand Prix',\n",
       "       'Sao Paulo Grand Prix', 'French Grand Prix', 'Monaco Grand Prix',\n",
       "       'Emilia-Romagna Grand Prix', 'Saudi Arabian Grand Prix',\n",
       "       'Japanese Grand Prix', 'South Korean Grand Prix'], dtype=object)"
      ]
     },
     "execution_count": 41,
     "metadata": {},
     "output_type": "execute_result"
    }
   ],
   "source": [
    "top_100['name'].unique()"
   ]
  },
  {
   "cell_type": "code",
   "execution_count": 5,
   "metadata": {},
   "outputs": [
    {
     "data": {
      "text/plain": [
       "array([2012, 2019, 2011, 2014, 2015, 2021, 2020, 2022, 2017, 2018, 2008,\n",
       "       2016, 2010, 2009, 2013], dtype=int64)"
      ]
     },
     "execution_count": 5,
     "metadata": {},
     "output_type": "execute_result"
    }
   ],
   "source": [
    "top_100['year'].unique()"
   ]
  },
  {
   "cell_type": "code",
   "execution_count": 51,
   "metadata": {},
   "outputs": [],
   "source": [
    "type_top_100 = {\n",
    "    \"Ranking\": str,\n",
    "    \"raceId\": int,\n",
    "    \"circuitId\": int,\n",
    "    \"name\": str,\n",
    "    \"rating\": float,\n",
    "    \"year\": int\n",
    "}\n",
    "top_100 = top_100.astype(type_top_100, errors=\"ignore\")\n",
    "top_100.dropna(how=\"any\", inplace=True)"
   ]
  },
  {
   "cell_type": "code",
   "execution_count": 52,
   "metadata": {},
   "outputs": [],
   "source": [
    "year_colors={\n",
    "    2008: 'rebeccapurple',\n",
    "    2009: 'blue',\n",
    "    2010: 'lime',\n",
    "    2011: 'orange',\n",
    "    2012: 'skyblue',\n",
    "    2013: 'red',\n",
    "    2014: 'turquoise',\n",
    "    2015: 'yellow',\n",
    "    2016: 'darkgreen',\n",
    "    2017: 'khaki',\n",
    "    2018: 'hotpink',\n",
    "    2019: 'aqua',\n",
    "    2020: 'crimson',\n",
    "    2021: 'darkolivegreen',\n",
    "    2022: 'sandybrown'\n",
    "}\n"
   ]
  },
  {
   "cell_type": "code",
   "execution_count": 56,
   "metadata": {},
   "outputs": [
    {
     "data": {
      "image/png": "[encoded data removed]",
      "text/plain": [
       "<Figure size 864x432 with 1 Axes>"
      ]
     },
     "metadata": {
      "needs_background": "light"
     },
     "output_type": "display_data"
    }
   ],
   "source": [
    "#Scatter plot rating vs year\n",
    "plt.figure(figsize=(12,6))\n",
    "plt.scatter(x=top_100['year'], y=top_100['rating'], color=[year_colors[year] for year in top_100[\"year\"]])\n",
    "plt.title(\"Scatter Plot Showing Rating Against Year\")\n",
    "plt.xlabel(\"Year\")\n",
    "plt.ylabel(\"Race Rating\")\n",
    "plt.xticks(top_100['year'].unique())\n",
    "plt.show()\n"
   ]
  },
  {
   "cell_type": "code",
   "execution_count": 66,
   "metadata": {},
   "outputs": [
    {
     "name": "stderr",
     "output_type": "stream",
     "text": [
      "No artists with labels found to put in legend.  Note that artists whose label start with an underscore are ignored when legend() is called with no argument.\n"
     ]
    },
    {
     "data": {
      "image/png": "[encoded data removed]",
      "text/plain": [
       "<Figure size 864x432 with 1 Axes>"
      ]
     },
     "metadata": {
      "needs_background": "light"
     },
     "output_type": "display_data"
    }
   ],
   "source": [
    "#Number of races per year\n",
    "race_counts = top_100.groupby('year')['name'].count()\n",
    "\n",
    "plt.figure(figsize=(12,6))\n",
    "plt.bar(x=race_counts.index, height=race_counts.values, color=[year_colors[year] for year in race_counts.index])\n",
    "plt.title(\"Top 100 Races from 2008-2022 per year\")\n",
    "plt.xlabel(\"Year\")\n",
    "plt.ylabel(\"Number of Races\")\n",
    "plt.xticks(top_100['year'].unique())\n",
    "plt.show()"
   ]
  },
  {
   "cell_type": "code",
   "execution_count": 63,
   "metadata": {},
   "outputs": [
    {
     "data": {
      "text/plain": [
       "year\n",
       "2008     7\n",
       "2009     3\n",
       "2010     6\n",
       "2011    10\n",
       "2012    10\n",
       "2013     4\n",
       "2014     6\n",
       "2015     4\n",
       "2016     8\n",
       "2017     6\n",
       "2018     9\n",
       "2019     7\n",
       "2020     4\n",
       "2021     9\n",
       "2022     7\n",
       "Name: name, dtype: int64"
      ]
     },
     "execution_count": 63,
     "metadata": {},
     "output_type": "execute_result"
    }
   ],
   "source": [
    "race_counts"
   ]
  },
  {
   "cell_type": "code",
   "execution_count": null,
   "metadata": {},
   "outputs": [],
   "source": []
  }
 ],
 "metadata": {
  "kernelspec": {
   "display_name": "Python 3",
   "language": "python",
   "name": "python3"
  },
  "language_info": {
   "codemirror_mode": {
    "name": "ipython",
    "version": 3
   },
   "file_extension": ".py",
   "mimetype": "text/x-python",
   "name": "python",
   "nbconvert_exporter": "python",
   "pygments_lexer": "ipython3",
   "version": "3.10.2"
  }
 },
 "nbformat": 4,
 "nbformat_minor": 2
}
